{
  "nbformat": 4,
  "nbformat_minor": 0,
  "metadata": {
    "colab": {
      "provenance": [],
      "authorship_tag": "ABX9TyM2Juw/ZzzPEkCj/FLszfTc",
      "include_colab_link": true
    },
    "kernelspec": {
      "name": "python3",
      "display_name": "Python 3"
    },
    "language_info": {
      "name": "python"
    }
  },
  "cells": [
    {
      "cell_type": "markdown",
      "metadata": {
        "id": "view-in-github",
        "colab_type": "text"
      },
      "source": [
        "<a href=\"https://colab.research.google.com/github/thanhson511/LinearAlgebra/blob/main/linearalgebra.ipynb\" target=\"_parent\"><img src=\"https://colab.research.google.com/assets/colab-badge.svg\" alt=\"Open In Colab\"/></a>"
      ]
    },
    {
      "cell_type": "code",
      "execution_count": null,
      "metadata": {
        "colab": {
          "base_uri": "https://localhost:8080/"
        },
        "id": "Nk1WmRgW4qTC",
        "outputId": "e6bf61ba-b6d3-42d1-df96-1da472732ec2"
      },
      "outputs": [
        {
          "output_type": "stream",
          "name": "stdout",
          "text": [
            "\\left[\\begin{matrix}1 & -3 & -1 & -3 & 0\\\\-1 & -9 & 7 & -12 & 0\\\\7 & 15 & -24 & 21 & 0\\\\1 & 33 & -19 & 42 & 0\\end{matrix}\\right]\n"
          ]
        }
      ],
      "source": [
        "# Create a matrix by elementary transform on\n",
        "# the given upper triangular matrix\n",
        "# Tạo một ma trận bằng cách biến đổi ma trận\n",
        "# tam giác trên cho trước rồi xuất code latex\n",
        "\n",
        "import numpy as np\n",
        "from sympy import Matrix, latex\n",
        "\n",
        "random_elements = np.array([-3,-2,-1,1,2,3])\n",
        "\n",
        "# Assign random values to variables a, b, c, d, e, f, g, h\n",
        "a, b, c, d, e, f, g, h = np.random.choice(random_elements, size=8, replace=True)\n",
        "\n",
        "\n",
        "# Define a matrix\n",
        "A = Matrix([[1, a , b, c,0],\n",
        "            [d, e, f, g,0],\n",
        "            [0, 0, 1, h,0],\n",
        "            [0, 0, 0, 0,0]])\n",
        "\n",
        "\n",
        "# Example new :\n",
        "A.row_op(1, lambda x, i: x*3 +2*A[0,i])\n",
        "A.row_op(3, lambda x, i: x - 2 * A[0, i] - 3*A[1,i])\n",
        "A.row_op(2, lambda x, i: x + 4 * A[0, i] - 3*A[1,i])\n",
        "\n",
        "print(latex(A))"
      ]
    },
    {
      "cell_type": "code",
      "source": [
        "import numpy as np\n",
        "\n",
        "# Array A\n",
        "A = np.array([0,1, 2, 3, -1 ,-2,-3])\n",
        "\n",
        "# Probability distribution for each element in A\n",
        "prob_distribution = [0.125, 0.25, 0.25, 0.05, 0.025, 0.02, 0.28]\n",
        "\n",
        "# Assign random values to variables a, b, c, d, e, f, g, h\n",
        "B = np.random.choice(A, size=20, replace=True, p=prob_distribution)\n",
        "\n",
        "# Print the assigned values\n",
        "print(B)"
      ],
      "metadata": {
        "id": "zlO10H4vc4zc",
        "outputId": "fdd65f0d-3c15-42c7-c128-eea6a9c3ddce",
        "colab": {
          "base_uri": "https://localhost:8080/"
        }
      },
      "execution_count": null,
      "outputs": [
        {
          "output_type": "stream",
          "name": "stdout",
          "text": [
            "[-3  2  1  1  2  2 -3  1 -3 -3 -3  2  1 -3 -3 -2 -3 -3  2 -3]\n"
          ]
        }
      ]
    }
  ]
}