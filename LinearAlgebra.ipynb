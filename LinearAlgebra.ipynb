{
  "nbformat": 4,
  "nbformat_minor": 0,
  "metadata": {
    "colab": {
      "provenance": [],
      "authorship_tag": "ABX9TyOab+jVxrVCx7WIfQz9K+2+"
    },
    "kernelspec": {
      "name": "python3",
      "display_name": "Python 3"
    },
    "language_info": {
      "name": "python"
    }
  },
  "cells": [
    {
      "cell_type": "code",
      "execution_count": 7,
      "metadata": {
        "colab": {
          "base_uri": "https://localhost:8080/"
        },
        "id": "Nk1WmRgW4qTC",
        "outputId": "a107dd0a-ee21-447c-cf38-fac2478c1f47"
      },
      "outputs": [
        {
          "output_type": "stream",
          "name": "stdout",
          "text": [
            "\\left[\\begin{matrix}1 & 2 & 1 & -1 & 0\\\\8 & 7 & -1 & 7 & 0\\\\-25 & -23 & 8 & -18 & 0\\\\-26 & -25 & 1 & -19 & 0\\end{matrix}\\right]\n",
            "\\left[\\begin{pmatrix}1 & 2 & 1 & -1 & 0\\\\8 & 7 & -1 & 7 & 0\\\\-25 & -23 & 8 & -18 & 0\\\\-26 & -25 & 1 & -19 & 0\\end{pmatrix}\\right]\n"
          ]
        }
      ],
      "source": [
        "# Create a matrix by elementary transform on\n",
        "# the given upper triangular matrix\n",
        "# Tạo một ma trận bằng cách biến đổi ma trận\n",
        "# tam giác trên cho trước rồi xuất code latex\n",
        "\n",
        "from sympy import Matrix, latex\n",
        "\n",
        "# Define a matrix\n",
        "A = Matrix([[1, 2, 1,-1, 0],\n",
        "            [2, 1, -1, 3, 0],\n",
        "            [0, 0, 3, 1, 0],\n",
        "            [0, 0, 0, 0, 0]])\n",
        "\n",
        "\n",
        "# Example new :\n",
        "A.row_op(1, lambda x, i: x*3 +2*A[0,i])\n",
        "A.row_op(3, lambda x, i: x - 2 * A[0, i] - 3*A[1,i])\n",
        "A.row_op(2, lambda x, i: 2*x -A[0, i] - 3*A[1,i])\n",
        "\n",
        "print(latex(A))\n",
        "print(latex(A).replace(\"matrix\",\"pmatrix\"))"
      ]
    }
  ]
}