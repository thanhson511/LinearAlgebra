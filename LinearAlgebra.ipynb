{
  "nbformat": 4,
  "nbformat_minor": 0,
  "metadata": {
    "colab": {
      "provenance": [],
      "authorship_tag": "ABX9TyN6uI/VuNgEXrP+ruRx8e0s",
      "include_colab_link": true
    },
    "kernelspec": {
      "name": "python3",
      "display_name": "Python 3"
    },
    "language_info": {
      "name": "python"
    }
  },
  "cells": [
    {
      "cell_type": "markdown",
      "metadata": {
        "id": "view-in-github",
        "colab_type": "text"
      },
      "source": [
        "<a href=\"https://colab.research.google.com/github/thanhson511/LinearAlgebra/blob/main/LinearAlgebra.ipynb\" target=\"_parent\"><img src=\"https://colab.research.google.com/assets/colab-badge.svg\" alt=\"Open In Colab\"/></a>"
      ]
    },
    {
      "cell_type": "code",
      "execution_count": 1,
      "metadata": {
        "colab": {
          "base_uri": "https://localhost:8080/"
        },
        "id": "Nk1WmRgW4qTC",
        "outputId": "fa50c2e5-3359-4ae0-d2bf-558498d26d2f"
      },
      "outputs": [
        {
          "output_type": "stream",
          "name": "stdout",
          "text": [
            "\\left[\\begin{matrix}1 & -1 & 2 & -2\\\\8 & 1 & 4 & 5\\\\-20 & -7 & -2 & -23\\\\-26 & -1 & -16 & -11\\end{matrix}\\right]\n"
          ]
        }
      ],
      "source": [
        "# Create a matrix by elementary transform on\n",
        "# the given upper triangular matrix\n",
        "# Tạo một ma trận bằng cách biến đổi ma trận\n",
        "# tam giác trên cho trước rồi xuất code latex\n",
        "\n",
        "from sympy import Matrix, latex\n",
        "\n",
        "# Define a matrix\n",
        "A = Matrix([[1, -1, 2,-2],\n",
        "            [2, 1, 0, 3],\n",
        "            [0, 0, 2, 0],\n",
        "            [0, 0, 0, 0]])\n",
        "\n",
        "\n",
        "# Example new :\n",
        "A.row_op(1, lambda x, i: x*3 +2*A[0,i])\n",
        "A.row_op(3, lambda x, i: x - 2 * A[0, i] - 3*A[1,i])\n",
        "A.row_op(2, lambda x, i: x + 4 * A[0, i] - 3*A[1,i])\n",
        "\n",
        "print(latex(A))"
      ]
    }
  ]
}